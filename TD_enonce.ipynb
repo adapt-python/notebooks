{
 "cells": [
  {
   "cell_type": "markdown",
   "id": "b874d320-25b0-44ec-b0e5-64b8cdae4de8",
   "metadata": {},
   "source": [
    "# Transfer Learning Tutorial : Unsupervised Instance-Based Approaches"
   ]
  },
  {
   "cell_type": "markdown",
   "id": "dc01bdce-baf0-409f-a1a5-10693ff04e0c",
   "metadata": {},
   "source": [
    "In this tutorial, we are going to apply instance-based approaches to perform transfer learning.\n"
   ]
  },
  {
   "cell_type": "code",
   "execution_count": 1,
   "id": "a51320a9-806b-468e-88bf-d940c2fdb0e1",
   "metadata": {},
   "outputs": [],
   "source": [
    "import numpy as np\n",
    "import scipy\n",
    "import matplotlib.pyplot as plt\n",
    "import seaborn as sns"
   ]
  },
  {
   "cell_type": "markdown",
   "id": "2a73a1f5-e80a-4109-ae69-09c9f13b37c8",
   "metadata": {},
   "source": [
    "# Exercise 1 : Gaussians 1D"
   ]
  },
  {
   "cell_type": "code",
   "execution_count": 2,
   "id": "d8845cfc-97bb-4e0f-bf54-4f35fe7d0c06",
   "metadata": {},
   "outputs": [],
   "source": [
    "def show(Xs=None, Xt=None, ys=None, yt=None, model=None, weights=None):\n",
    "    \"\"\"\n",
    "    This is the plotting function \n",
    "    \"\"\"\n",
    "\n",
    "    if ys is None and yt is None:\n",
    "        fig, ax = plt.subplots(1, 1, figsize=(8, 3))\n",
    "\n",
    "        alpha = 0.1\n",
    "        for x in Xs:\n",
    "            ax.plot([x, x], [0, alpha], c=\"C0\")\n",
    "        ax.plot([x, x], [0, alpha], c=\"C0\", label=r\"$x_i$ observations\")\n",
    "        \n",
    "        alpha = 0.1\n",
    "        for x in Xt:\n",
    "            ax.plot([x, x], [0, alpha], c=\"C1\")\n",
    "        ax.plot([x, x], [0, alpha], c=\"C1\", label=r\"$x'_i$ observations\")\n",
    "\n",
    "        ax.tick_params(left = False, right = False , labelleft = True ,\n",
    "                        labelbottom = True, bottom = False, top = False)\n",
    "        ax.spines.top.set_visible(False)\n",
    "        ax.spines.right.set_visible(False)\n",
    "\n",
    "        ylim_max = 0.45\n",
    "\n",
    "        ax.plot(1, 0.0, ls=\"\", marker=\">\", ms=10, color=\"k\", clip_on=False,\n",
    "                transform=ax.get_yaxis_transform())\n",
    "        ax.plot(-4.3, ylim_max, ls=\"\", marker=\"^\", ms=10, color=\"k\", clip_on=False)\n",
    "\n",
    "        # ax.set_ylim(0., ylim_max)\n",
    "        ax.set_xlim(-4.3, 4.3)\n",
    "\n",
    "        ax.set_xlabel(\"X ~ P(X)\", fontsize=16)\n",
    "        ax.set_ylabel(r\"$\\widehat{p_s}(x)$\", fontsize=16)\n",
    "        \n",
    "        if weights is None:\n",
    "            sns.kdeplot(Xs, label=r\"$\\widehat{p_s}(x)$\", ax=ax, shade=True)\n",
    "        else:\n",
    "            np.random.seed(123)\n",
    "            bs_index = np.random.choice(len(Xs), 3 * len(Xs), p=weights/weights.sum())\n",
    "            sns.kdeplot(Xs[bs_index], label=r\"$w(x) \\widehat{p_s}(x)$\", ax=ax, shade=True)\n",
    "        sns.kdeplot(Xt, label=r\"$\\widehat{p_t}(x)$\", ax=ax, shade=True)\n",
    "\n",
    "        ax.legend(fontsize=16, loc=\"upper right\", bbox_to_anchor=(1.4, 1.05))\n",
    "    \n",
    "    else:\n",
    "        fig = plt.figure(figsize=(8, 8))\n",
    "\n",
    "        gs = fig.add_gridspec(2, 1, height_ratios=(2, 1),\n",
    "                              left=0.1, right=0.9, bottom=0.1, top=0.9,\n",
    "                              wspace=0.05, hspace=0.0)\n",
    "        # Create the Axes.\n",
    "        ax2 = fig.add_subplot(gs[1, 0])\n",
    "        ax1 = fig.add_subplot(gs[0, 0], sharex=ax2)\n",
    "        \n",
    "        if weights is None:\n",
    "            lns1 = ax1.plot(Xs, ys, '.', ms=15, alpha=0.7, c=\"C0\",\n",
    "                            markeredgecolor=\"C0\", label=r\"$(x_i, y_i)$ observations\")\n",
    "        else:\n",
    "            lns1 = ax1.scatter(Xs, ys, s=100*weights, alpha=0.7, c=\"C0\",\n",
    "                            edgecolor=\"C0\", label=r\"$(x_i, y_i)$ observations\")\n",
    "            lns1 = [lns1]\n",
    "        lns8 = ax1.plot(Xt, yt, '.', ms=15, alpha=0.7, c=\"C1\",\n",
    "                        markeredgecolor=\"C1\", label=r\"$(x'_i, y'_i)$ !not available!\")\n",
    "\n",
    "        lin = np.linspace(-4.2, 4.2, 100)\n",
    "\n",
    "        ax2.plot(lin, gaussian(lin, mu=-1), color=\"C0\")\n",
    "        lns2 = ax2.fill_between(lin, gaussian(lin, mu=-1),\n",
    "                                alpha=0.2, color=\"C0\", label=r\"$p_s(x)$\")\n",
    "        ax2.plot(lin, gaussian(lin, mu=1.), color=\"C1\")\n",
    "        lns6 = ax2.fill_between(lin, gaussian(lin, mu=1.),\n",
    "                                alpha=0.2, color=\"C1\", label=r\"$p_t(x)$\")\n",
    "\n",
    "        alpha = 0.1\n",
    "        for x in Xs:\n",
    "            ax2.plot([x, x], [0, alpha], c=\"C0\")\n",
    "        lns3 = ax2.plot([x, x], [0, alpha], c=\"C0\", label=r\"$x_i$ observations\")\n",
    "\n",
    "        alpha = 0.1\n",
    "        for x in Xt:\n",
    "            ax2.plot([x, x], [0, alpha], c=\"C1\")\n",
    "        lns7 = ax2.plot([x, x], [0, alpha], c=\"C1\", label=r\"$x'_i$ observations\")\n",
    "\n",
    "        ax2.tick_params(left = False, right = False , labelleft = False ,\n",
    "                        labelbottom = True, bottom = False, top = False)\n",
    "        ax2.spines.top.set_visible(False)\n",
    "        ax2.spines.right.set_visible(False)\n",
    "\n",
    "        ax1.tick_params(left = True, right = False , labelleft = True ,\n",
    "                        labelbottom = False, bottom = False, top = False)\n",
    "        ax1.spines.top.set_visible(False)\n",
    "        ax1.spines.right.set_visible(False)\n",
    "        ax1.spines.bottom.set_visible(False)\n",
    "\n",
    "        ylim_max_ax2 = 0.45\n",
    "        ylim_min_ax2 = 0.\n",
    "        ylim_max_ax1 = ax1.get_ylim()[1]\n",
    "        ylim_min_ax1 = ax1.get_ylim()[0]\n",
    "\n",
    "        if model is not None:   \n",
    "            if hasattr(model, \"predict\"):\n",
    "                yp = model.predict(lin.reshape(-1, 1))\n",
    "            else:\n",
    "                yp = model(lin.reshape(-1, 1))\n",
    "            lns4 = ax1.plot(lin, yp, c=\"k\", label=r\"$\\widehat{h^*}$  predictive model\")\n",
    "\n",
    "        ax2.plot(1, 0.0, ls=\"\", marker=\">\", ms=10, color=\"k\", clip_on=False,\n",
    "                transform=ax2.get_yaxis_transform())\n",
    "        ax1.plot(-4.3, ylim_max_ax1, ls=\"\", marker=\"^\", ms=10, color=\"k\", clip_on=False)\n",
    "\n",
    "        ax2.set_ylim(ylim_min_ax2, ylim_max_ax2)\n",
    "        ax1.set_ylim(ylim_min_ax1, ylim_max_ax1)\n",
    "        ax2.set_xlim(-4.3, 4.3)\n",
    "        ax2.set_xlim(-4.3, 4.3)\n",
    "\n",
    "        ax2.set_xlabel(\"X ~ P(X)\", fontsize=16)\n",
    "        ax1.set_ylabel(\"Y ~ P(Y|X)\", fontsize=16)\n",
    "\n",
    "        lns = lns1 + [lns2] + lns3 + lns8 + [lns6] + lns7\n",
    "        labs = [l.get_label() for l in lns]\n",
    "        ax1.legend(lns, labs, fontsize=16, loc=\"upper right\", bbox_to_anchor=(1.4, 1.05))\n",
    "\n",
    "    plt.show()"
   ]
  },
  {
   "cell_type": "markdown",
   "id": "76cc23ad-bfe9-4642-91dc-8cdbf6c85a5c",
   "metadata": {},
   "source": [
    "## 1. Weighted Regression"
   ]
  },
  {
   "cell_type": "markdown",
   "id": "a306dde1-1e31-4d2a-a182-939560c81994",
   "metadata": {},
   "source": [
    "In this exercise, we consider two domains defined on $\\mathbb{R}$ : the source domain $P_S(X, Y)$ and the target domain $P_T(X, Y)$ where:\n",
    "\n",
    "$$P_S(X) = \\mathcal{N}(-1, 1)$$\n",
    "\n",
    "$$P_T(X) = \\mathcal{N}(1, 1)$$\n",
    "\n",
    "$$P_S(Y|X=x) = P_T(Y|X=x) = \\mathcal{N}(|x|, 0.5)$$"
   ]
  },
  {
   "cell_type": "markdown",
   "id": "571555c9-6791-49ff-9b53-da0fa56ba28f",
   "metadata": {},
   "source": [
    "We remind the definition of the gaussian density function of mean $\\mu$ and standard deviation $\\sigma$:\n",
    "\n",
    "$$p(x) = \\frac{1}{\\sqrt{2 \\pi \\sigma^2}} \\exp \\left( \\frac{-(x-\\mu)^2}{2 \\sigma^2} \\right)$$"
   ]
  },
  {
   "cell_type": "markdown",
   "id": "4877a8cf-527a-4004-8d89-372970e362a9",
   "metadata": {},
   "source": [
    "We consider the scenario where the learner has access to a source **labeled** sample `(Xs, ys)` of size $m=30$ drawn according to $P_S(X, Y)$ and a target **unlabeled** sample `Xt` of size $n=30$ drawn according to $P_T(X)$.\n",
    "\n",
    "**NB** : For the tutorial purpose, we sample also the associated labels `yt` which are not available at training time but will be used to evaluate the models on the target domain."
   ]
  },
  {
   "cell_type": "code",
   "execution_count": 3,
   "id": "50cb163b-6684-4915-86b7-f39565f853ed",
   "metadata": {},
   "outputs": [],
   "source": [
    "def label_func(x, noise=0.1):\n",
    "    return np.abs(x) + noise * np.random.randn(len(x))\n",
    "\n",
    "def gaussian(x, mu=0., s=1.):\n",
    "    return 1./np.sqrt( 2. * np.pi * s**2 ) * np.exp( -(x-mu)**2 / ( 2. * s**2 ) )\n",
    "\n",
    "np.random.seed(0)\n",
    "Xs = np.random.randn(30) * 1. - 1.\n",
    "Xt = np.random.randn(30) * 1. + 1.\n",
    "ys = label_func(Xs, 0.5)\n",
    "yt = label_func(Xt, 0.5)"
   ]
  },
  {
   "cell_type": "code",
   "execution_count": 4,
   "id": "6ca37293-9c60-4b93-a7a0-5bf289eb7a8e",
   "metadata": {},
   "outputs": [
    {
     "data": {
      "image/png": "[encoded data removed]",
      "text/plain": [
       "<Figure size 576x576 with 2 Axes>"
      ]
     },
     "metadata": {
      "needs_background": "light"
     },
     "output_type": "display_data"
    }
   ],
   "source": [
    "show(Xs, Xt, ys, yt)"
   ]
  },
  {
   "cell_type": "markdown",
   "id": "7eedea5b-9e4f-438d-903b-ceaaad52709e",
   "metadata": {},
   "source": [
    "### Question 1.1 :\n",
    "\n",
    "Use `scikit-klearn` to fit a linear model on the source labeled data `(Xs, ys)` and show the model predictions on the plot"
   ]
  },
  {
   "cell_type": "code",
   "execution_count": null,
   "id": "371270ee-3077-4b27-a17c-d2dbdd9558f0",
   "metadata": {},
   "outputs": [],
   "source": [
    "from sklearn.linear_model import LinearRegression\n",
    "\n",
    "model = #...\n",
    "model.fit(#...); \n",
    "# Be carefull! You need to reshape Xs as a column vector : Xs.reshape(-1, 1)"
   ]
  },
  {
   "cell_type": "code",
   "execution_count": null,
   "id": "bc36359d-48a5-45da-bff9-88f62bf1d5b4",
   "metadata": {},
   "outputs": [],
   "source": [
    "show(Xs, Xt, ys, yt, model=model)"
   ]
  },
  {
   "cell_type": "markdown",
   "id": "5079fbba-1ad5-4f6f-8786-5142b54e63ef",
   "metadata": {},
   "source": [
    "### Question 1.2 :\n",
    "\n",
    "Compute the source and target empirical average squared errors : \n",
    "\n",
    "$$\\mathbb{E}_{(x, y) \\sim \\widehat{P_S}(X, Y)}[(h(x)-y)^2]$$\n",
    "\n",
    "$$\\mathbb{E}_{(x, y) \\sim \\widehat{P_T}(X, Y)}[(h(x)-y)^2]$$\n",
    "\n",
    "What do you observe ?"
   ]
  },
  {
   "cell_type": "code",
   "execution_count": null,
   "id": "6355162a-0131-4091-a5c5-5fda21ae80eb",
   "metadata": {},
   "outputs": [],
   "source": [
    "# ! Do not forget to reshape Xs and Xt with Xs.reshape(-1, 1) to make the prediction\n",
    "err_src = #...\n",
    "err_tgt = #...\n",
    "\n",
    "print(\"Source average squared error : %.4f\"%err_src)\n",
    "print(\"Target average squared error : %.4f\"%err_tgt)"
   ]
  },
  {
   "cell_type": "markdown",
   "id": "80d3e12d-fb7d-4a87-be82-f73068faf14b",
   "metadata": {},
   "source": [
    "### Question 1.3 :\n",
    "\n",
    "Assuming that the model error $\\epsilon$ is a centered gaussian ($Y = X \\beta + \\epsilon$ with $\\epsilon \\sim \\mathcal{N}(0, \\sigma)$), compute the pvalue of the F-test that the source and target computed errors are drawn from the same law $\\epsilon$.\n",
    "\n",
    "For a risk $\\alpha = 0.01$, can we reject the hypothesis that $\\epsilon_s \\sim \\epsilon_t$"
   ]
  },
  {
   "cell_type": "code",
   "execution_count": null,
   "id": "5a0903a1-2055-478a-abda-18e6ddf78e94",
   "metadata": {},
   "outputs": [],
   "source": [
    "F = err_src / err_tgt\n",
    "pvalue = scipy.stats.f.cdf(F, len(ys)-1, len(yt)-1)\n",
    "print(\"pvalue = %f\"%pvalue)"
   ]
  },
  {
   "cell_type": "markdown",
   "id": "cdce2dde-60fb-44ad-8417-ce299df0ade8",
   "metadata": {},
   "source": [
    "We now want to reweight our source risk to correct the shift between domains:\n",
    "\n",
    "### Question 1.4 :\n",
    "\n",
    "Show that we have:\n",
    "\n",
    "$$\\mathbb{E}_{(x, y) \\sim P_T(X, Y)}[(h(x)-y)^2] = \\mathbb{E}_{(x, y) \\sim P_S(X, Y)}[w(x) (h(x)-y)^2]$$\n",
    "\n",
    "With:\n",
    "\n",
    "$$w(x) = \\frac{p_s(t)}{p_s(x)}$$"
   ]
  },
  {
   "cell_type": "markdown",
   "id": "f4909934-7899-4819-b368-c5a03fb2d292",
   "metadata": {},
   "source": [
    "### Question 1.5\n",
    "\n",
    "Express the density ratio $w(x)$ as a function of $x$ and write a python function for it.\n",
    "\n",
    "Then plot a comparison of the empirical source distribution with its reweighted counterpart."
   ]
  },
  {
   "cell_type": "code",
   "execution_count": null,
   "id": "f183000d-4003-4607-a1f9-fdc3fa08046a",
   "metadata": {},
   "outputs": [],
   "source": [
    "def density_ratio(x):\n",
    "    return #..."
   ]
  },
  {
   "cell_type": "code",
   "execution_count": null,
   "id": "2ae2badf-a636-40da-bf71-166a8f9ad790",
   "metadata": {},
   "outputs": [],
   "source": [
    "show(Xs, Xt)\n",
    "show(Xs, Xt, weights=density_ratio(Xs))"
   ]
  },
  {
   "cell_type": "markdown",
   "id": "c4104066-612a-4678-8061-98a66bb35c3b",
   "metadata": {},
   "source": [
    "### Question 1.6\n",
    "\n",
    "Now that we have computed $w(x)$, we can give a \"debiased\" estimation of the target risk by reweighting the source risk.\n",
    "\n",
    "Compute a reweighted average of the source errors and compare it to the target average error."
   ]
  },
  {
   "cell_type": "code",
   "execution_count": null,
   "id": "98a57391-c94f-433b-bd02-8b83b1b751a5",
   "metadata": {},
   "outputs": [],
   "source": [
    "err_src = #...\n",
    "err_tgt = #...\n",
    "\n",
    "print(\"Source reweighted average squared error : %.4f\"%err_src)\n",
    "print(\"Target average squared error : %.4f\"%err_tgt)"
   ]
  },
  {
   "cell_type": "markdown",
   "id": "cb44ad08-f624-4262-ad7a-32af5859985d",
   "metadata": {},
   "source": [
    "### Question 1.7\n",
    "\n",
    "Compute the F statistic. Can we reject the hypothesis that $\\epsilon_s \\sim \\epsilon_t$"
   ]
  },
  {
   "cell_type": "code",
   "execution_count": null,
   "id": "f91e7fd9-6663-4a4e-8c74-3353c16c3f6e",
   "metadata": {},
   "outputs": [],
   "source": [
    "F = err_src / err_tgt\n",
    "pvalue = scipy.stats.f.cdf(F, len(ys)-1, len(yt)-1)\n",
    "print(\"pvalue = %f\"%pvalue)"
   ]
  },
  {
   "cell_type": "markdown",
   "id": "de9cf18c-30fb-417c-ad57-276c5edfb8de",
   "metadata": {},
   "source": [
    "### Question 1.8\n",
    "\n",
    "We know want to fit the linear regression model based on the reweighted source risk.\n",
    "\n",
    "Compute analyticaly the linear regression solution $\\beta^*$\n",
    "\n",
    "**Hint** : Use the `X, y` arrays defined below. The \"full ones\" vector added to the input matrix is usefull to fit the intecept."
   ]
  },
  {
   "cell_type": "code",
   "execution_count": null,
   "id": "91ddb5a7-225e-4e34-892d-46cdfe05bd53",
   "metadata": {},
   "outputs": [],
   "source": [
    "X = np.concatenate((Xs.reshape(-1, 1), np.ones((Xs.shape[0], 1))), axis=1)\n",
    "y = ys.reshape(-1, 1)"
   ]
  },
  {
   "cell_type": "code",
   "execution_count": null,
   "id": "653a09a5-2336-4fc4-8690-6cd65d1c9544",
   "metadata": {},
   "outputs": [],
   "source": [
    "Delta = np.diag(density_ratio(Xs)) \n",
    "\n",
    "beta = np.linalg.inv(X.transpose() @ Delta @ X) @ X.transpose() @ Delta @ y\n",
    "\n",
    "print(\"Linear Regression coeficient\", beta.ravel())"
   ]
  },
  {
   "cell_type": "markdown",
   "id": "12d11d28-6c1b-485e-a241-373665167820",
   "metadata": {},
   "source": [
    "Define a debiased_model function which multiply the input matrix `x` with the $\\beta$ coeficients"
   ]
  },
  {
   "cell_type": "code",
   "execution_count": null,
   "id": "c63c276a-d036-498e-89b0-4830ec4022f5",
   "metadata": {},
   "outputs": [],
   "source": [
    "def debiased_model(x):\n",
    "    x = np.concatenate((x, np.ones((x.shape[0], 1))), axis=1)\n",
    "    return x.dot(beta).ravel()"
   ]
  },
  {
   "cell_type": "markdown",
   "id": "75cd7ade-0115-4648-88b7-220b338e056e",
   "metadata": {},
   "source": [
    "### Question 1.9\n",
    "\n",
    "Plot the model predictions and compute the new target risk. What do you observe?"
   ]
  },
  {
   "cell_type": "code",
   "execution_count": null,
   "id": "8306edf2-81c0-4912-abf7-c39083678505",
   "metadata": {},
   "outputs": [],
   "source": [
    "show(Xs, Xt, ys, yt, model=debiased_model, weights=density_ratio(Xs))"
   ]
  },
  {
   "cell_type": "code",
   "execution_count": null,
   "id": "4630d72b-1bf9-4091-a6e5-d0abe2ea459a",
   "metadata": {},
   "outputs": [],
   "source": [
    "err_src = #...\n",
    "err_tgt = #...\n",
    "\n",
    "print(\"Source reweighted average squared error : %.4f\"%err_src)\n",
    "print(\"Target average squared error : %.4f\"%err_tgt)"
   ]
  },
  {
   "cell_type": "markdown",
   "id": "48532549-f3c2-4600-83d0-94eb1ac39205",
   "metadata": {},
   "source": [
    "### Question 1.10\n",
    "\n",
    "Perform a weighted regression by with the `sample_weight` argument from the `fit` method of the `LinearRegression` object from `scikit-learn`. Verify that you get the same results than previously"
   ]
  },
  {
   "cell_type": "code",
   "execution_count": null,
   "id": "328db9af-8370-455e-82d4-6fc145eebddb",
   "metadata": {},
   "outputs": [],
   "source": [
    "model_2 = #...\n",
    "model_2.fit(#...);"
   ]
  },
  {
   "cell_type": "code",
   "execution_count": null,
   "id": "d7549264-a5b7-4e5c-8f37-6c29ace8be33",
   "metadata": {},
   "outputs": [],
   "source": [
    "show(Xs, Xt, ys, yt, model_2, density_ratio(Xs))"
   ]
  },
  {
   "cell_type": "code",
   "execution_count": null,
   "id": "5d90675c-8e00-4297-b0eb-de413cc8702f",
   "metadata": {},
   "outputs": [],
   "source": [
    "err_src = #...\n",
    "err_tgt = #...\n",
    "\n",
    "print(\"Source reweighted average squared error : %.4f\"%err_src)\n",
    "print(\"Target average squared error : %.4f\"%err_tgt)"
   ]
  },
  {
   "cell_type": "markdown",
   "id": "75921f99-442d-4d19-8586-10e9e5d8a1f6",
   "metadata": {},
   "source": [
    "## 2. Instance-based Approaches"
   ]
  },
  {
   "cell_type": "markdown",
   "id": "4ae5496c-f0cc-471e-9bd2-5606712947e3",
   "metadata": {},
   "source": [
    "### Question 2.1 : PDE\n",
    "\n",
    "Implement the Paramatric Density-Estimation (PDE) method and compare the computed weights with the theoretical density ratio.\n",
    "\n",
    "**Hints** Use the `gaussian` function defined above with modified arguments `mu` and `s` to compute the estimated density functions."
   ]
  },
  {
   "cell_type": "code",
   "execution_count": null,
   "id": "ab19c6e3-3ce6-45cb-ae2a-b4a3b76d6a92",
   "metadata": {},
   "outputs": [],
   "source": [
    "ps_Xs = #...\n",
    "pt_Xs = #...\n",
    "\n",
    "weights = pt_Xs / ps_Xs"
   ]
  },
  {
   "cell_type": "code",
   "execution_count": null,
   "id": "d7cf9cb5-4270-4d56-b5f9-d2b3da04b999",
   "metadata": {},
   "outputs": [],
   "source": [
    "args = np.argsort(Xs).ravel()\n",
    "plt.plot(Xs[args], density_ratio(Xs[args]), label=r\"$w(x)$\")\n",
    "plt.plot(Xs, weights, \".\", c=\"black\", label=r'$\\widehat{w}(x)$')\n",
    "plt.xlabel(\"X\"); plt.ylabel(\"Weight\"); plt.legend(fontsize=16); plt.show()\n",
    "\n",
    "show(Xs, Xt, weights=weights)"
   ]
  },
  {
   "cell_type": "markdown",
   "id": "5f2df112-50f4-4443-b14b-177b94353c69",
   "metadata": {},
   "source": [
    "### Question 2.2 : KDE (1)\n",
    "\n",
    "In many cases, the source and target input distributions are not gaussians, to estimate the densities, one can then use a kernel density approach.\n",
    "\n",
    "Compute the Kernel Density Estimation (KDE) with gaussians kernels for the source and target densities, plot the estimated densities and compare the obtained weights to the theoretical one."
   ]
  },
  {
   "cell_type": "code",
   "execution_count": null,
   "id": "99da4ddd-a3b4-46fd-9916-3c8245729cb9",
   "metadata": {},
   "outputs": [],
   "source": [
    "from sklearn.metrics.pairwise import rbf_kernel\n",
    "\n",
    "def kde(centers, x, sigma=0.5):\n",
    "    # dist is a pairwise distance matrix of shape (len(centers), len(x))\n",
    "    dist = (1./np.sqrt( 2. * np.pi * sigma**2 )) * rbf_kernel(centers, x, gamma=1/(2 * sigma))\n",
    "    return dist.mean(0) # Average over the centers\n",
    "\n",
    "def log_likelihood(p):\n",
    "    return np.mean(np.log(p))"
   ]
  },
  {
   "cell_type": "code",
   "execution_count": null,
   "id": "6b14df28-6ece-4269-a135-63845482aff8",
   "metadata": {},
   "outputs": [],
   "source": [
    "sigma = 0.5  # kernel bandwidth\n",
    "\n",
    "x = np.linspace(-4.2, 4.2, 100)\n",
    "ps_x = # ... ! You need to give Xs.reshape(-1, 1) and x.reshape(-1, 1) to kde\n",
    "pt_x = # ... ! You need to give Xt.reshape(-1, 1) and x.reshape(-1, 1) to kde\n",
    "\n",
    "plt.figure(figsize=(8, 3))\n",
    "plt.plot(x, ps_x); plt.plot(x, pt_x)\n",
    "plt.fill_between(x, ps_x, alpha=0.2)\n",
    "plt.fill_between(x, pt_x, alpha=0.2)\n",
    "plt.show()"
   ]
  },
  {
   "cell_type": "code",
   "execution_count": null,
   "id": "b33cc0a7-3438-4678-a020-f8571dadce56",
   "metadata": {},
   "outputs": [],
   "source": [
    "weights = #...\n",
    "\n",
    "args = np.argsort(Xs).ravel()\n",
    "plt.plot(Xs[args], density_ratio(Xs[args]), label=r\"$w(x)$\")\n",
    "plt.plot(Xs, weights, \".\", c=\"black\", label=r'$\\widehat{w}(x)$')\n",
    "plt.xlabel(\"X\"); plt.ylabel(\"Weight\"); plt.legend(fontsize=16); plt.show()\n",
    "show(Xs, Xt, weights=weights)"
   ]
  },
  {
   "cell_type": "code",
   "execution_count": null,
   "id": "3bcda40b-38eb-4d95-93c3-6a7476225468",
   "metadata": {},
   "outputs": [],
   "source": [
    "ll_src = log_likelihood(kde(Xs.reshape(-1, 1), Xs.reshape(-1, 1), sigma=sigma))\n",
    "\n",
    "print(\"Source KDE Log likelihood: %.3f\"%ll_src)"
   ]
  },
  {
   "cell_type": "markdown",
   "id": "fe42ff78-7ef8-40a0-9d6b-448d8b2dd7e7",
   "metadata": {},
   "source": [
    "### Question 2.3 : KDE (2)\n",
    "\n",
    "Try different value of kernel bandwidth `sigma`, what do you observe?\n",
    "\n",
    "**(BONUS)** Compute the log likelihood for multiple `sigma` values, in which case the log likelihood is maximized?\n",
    "Can we use the log likelihood to select a relevant value of `sigma`? What improvement can you propose to find the best `sigma` ?"
   ]
  },
  {
   "cell_type": "markdown",
   "id": "493bcc31-9fac-481c-a2cc-dbdf1bef520d",
   "metadata": {},
   "source": [
    "### Question 2.4 NNW (1)\n",
    "\n",
    "We now consider the instance-based method \"Nearest-Neighbors-Weighting\" which derives the source weights based on the pairwise distances between source and target instances.\n",
    "\n",
    "Import the `NearestNeighborsWeighting` object from the [adapt.instance_based](https://adapt-python.github.io/adapt/contents.html#adapt-instance-based) module. \n",
    "You can access the documentation [here](https://adapt-python.github.io/adapt/generated/adapt.instance_based.NearestNeighborsWeighting.html). Then fit the weights with the `fit_weights` method and plot the results\n",
    "\n",
    "Try different value of `n_neighbors` in the range [1, 30], what do you observe? How do you explain the resulting weights for `n_neighbors=30` ? "
   ]
  },
  {
   "cell_type": "code",
   "execution_count": null,
   "id": "4f466f83-8f1d-402f-8608-b08bd3dbd088",
   "metadata": {},
   "outputs": [],
   "source": [
    "from adapt.instance_based import NearestNeighborsWeighting\n",
    "\n",
    "nnw = NearestNeighborsWeighting(n_neighbors=5)\n",
    "weights = nnw.fit_weights(Xs.reshape(-1, 1), Xt.reshape(-1, 1))\n",
    "weights /= weights.mean()"
   ]
  },
  {
   "cell_type": "code",
   "execution_count": null,
   "id": "56113383-22d7-4ea2-8628-8cb77577125c",
   "metadata": {},
   "outputs": [],
   "source": [
    "args = np.argsort(Xs).ravel()\n",
    "plt.plot(Xs[args], density_ratio(Xs[args]), label=r\"$w(x)$\")\n",
    "plt.plot(Xs, weights, \".\", c=\"black\", label=r'$\\widehat{w}(x)$')\n",
    "plt.xlabel(\"X\"); plt.ylabel(\"Weight\"); plt.legend(fontsize=16); plt.show()\n",
    "\n",
    "show(Xs, Xt, weights=weights)"
   ]
  },
  {
   "cell_type": "markdown",
   "id": "d33f691b-ce3b-4b3e-98d7-a988f378dff2",
   "metadata": {},
   "source": [
    "### Question 2.5 NNW (2)\n",
    "\n",
    "Every instance-based methods implemented in `adapt` can fit directly an estimator with the learned weights.\n",
    "\n",
    "Instantiate a `NearestNeighborsWeighting` object with a `LinearRegression` estimator and the target input data `Xt`, then use the `fit` method of the model on `Xs, ys`.\n",
    "\n",
    "Compute the target error, what do you observe?"
   ]
  },
  {
   "cell_type": "code",
   "execution_count": null,
   "id": "bdfb860c-9cdb-44be-8f99-3b4f56d86355",
   "metadata": {},
   "outputs": [],
   "source": [
    "nnw = NearestNeighborsWeighting(estimator=LinearRegression(),\n",
    "                                Xt=Xt.reshape(-1, 1),\n",
    "                                n_neighbors=1)\n",
    "\n",
    "nnw.fit(Xs.reshape(-1, 1), ys);"
   ]
  },
  {
   "cell_type": "code",
   "execution_count": null,
   "id": "8d7eb7d0-778c-4428-b37f-191d003735f7",
   "metadata": {},
   "outputs": [],
   "source": [
    "show(Xs, Xt, ys, yt, nnw, nnw.weights_/nnw.weights_.mean())"
   ]
  },
  {
   "cell_type": "code",
   "execution_count": null,
   "id": "7761d881-bbe4-466a-b9ae-b99cb0dde133",
   "metadata": {},
   "outputs": [],
   "source": [
    "err_src = #...\n",
    "err_tgt = #...\n",
    "\n",
    "print(\"Source reweighted average squared error : %.4f\"%err_src)\n",
    "print(\"Target average squared error : %.4f\"%err_tgt)"
   ]
  },
  {
   "cell_type": "markdown",
   "id": "c431c4f7-8e33-4b3b-b2ab-f8f888fee118",
   "metadata": {},
   "source": [
    "### Question 2.6 KMM (1)\n",
    "\n",
    "We now consider the Kernel Mean matching method.\n",
    "\n",
    "Import `KMM` from `adapt.instance_based` and fit the weights. What do you observe? How do you explain that the estimated density ratio $\\widehat{x}$ is not continuous with respect to $x$ ?"
   ]
  },
  {
   "cell_type": "code",
   "execution_count": null,
   "id": "972610de-e74b-4f5d-8445-fa5dd1d8e328",
   "metadata": {},
   "outputs": [],
   "source": [
    "from adapt.instance_based import KMM\n",
    "\n",
    "kmm = KMM()\n",
    "weights = #... Use the fit_weights method"
   ]
  },
  {
   "cell_type": "code",
   "execution_count": null,
   "id": "c986be55-5465-4b8e-93d6-58d9494367a1",
   "metadata": {},
   "outputs": [],
   "source": [
    "args = np.argsort(Xs).ravel()\n",
    "plt.plot(Xs[args], density_ratio(Xs[args]), label=r\"$w(x)$\")\n",
    "plt.plot(Xs, weights, \".\", c=\"black\", label=r'$\\widehat{w}(x)$')\n",
    "plt.xlabel(\"X\"); plt.ylabel(\"Weight\"); plt.legend(fontsize=16); plt.show()\n",
    "\n",
    "show(Xs, Xt, weights=weights)"
   ]
  },
  {
   "cell_type": "markdown",
   "id": "938adc03-40a5-485a-8e87-21a2f0783174",
   "metadata": {},
   "source": [
    "### Question 2.7\n",
    "\n",
    "Use the `fit` method to fit a linear model with the learned weights. Compute the target error, what do you observe?\n",
    "\n",
    "**(BONUS)** How do you explain that KMM and NNW provide lower target risk than the weighted regression using the optimal density ratio ?"
   ]
  },
  {
   "cell_type": "code",
   "execution_count": null,
   "id": "3ffe73b4-dfba-4101-9f42-63ac83041fc1",
   "metadata": {},
   "outputs": [],
   "source": [
    "kmm = KMM(estimator=LinearRegression(), Xt=Xt.reshape(-1, 1), verbose=0, random_state=0)\n",
    "kmm.fit(#...)"
   ]
  },
  {
   "cell_type": "code",
   "execution_count": null,
   "id": "63c29488-1654-456c-be63-906812a524b2",
   "metadata": {},
   "outputs": [],
   "source": [
    "show(Xs, Xt, ys, yt, kmm, kmm.weights_)"
   ]
  },
  {
   "cell_type": "code",
   "execution_count": null,
   "id": "c07d6048-80f7-48a6-8670-a6c717089a24",
   "metadata": {},
   "outputs": [],
   "source": [
    "err_src = #...\n",
    "err_tgt = #...\n",
    "\n",
    "print(\"Source reweighted average squared error : %.4f\"%err_src)\n",
    "print(\"Target average squared error : %.4f\"%err_tgt)"
   ]
  },
  {
   "cell_type": "markdown",
   "id": "7b086cc8-59ac-438b-93ac-dfd2cd8c76cd",
   "metadata": {},
   "source": [
    "# Exercise 2 : CT-Scan Dataset\n",
    "\n",
    "We now consider a real-life transfer scenario using the [CT-Scan dataset](https://archive.ics.uci.edu/ml/datasets/Relative+location+of+CT+slices+on+axial+axis) from the UCI machine leanring repository.\n",
    "\n",
    "This dataset is composed of more than $50000$ Ct-Scan slices coming from around $100$ different patients. The goal is to predict the relative location of the slice in the patient based on features extracted from the slice (cf Figure below)"
   ]
  },
  {
   "cell_type": "markdown",
   "id": "e34b98ee-253c-448c-8833-bd139fd30fba",
   "metadata": {},
   "source": [
    "![ctscan](ctscan.png)"
   ]
  },
  {
   "cell_type": "markdown",
   "id": "c90f0d4b-6c4b-47f7-ae9b-b327d8887079",
   "metadata": {},
   "source": [
    "We consider the following transfer learning scenario, where the learner has access to labeled data for every patients except one:  discard the patient with the more data and consider it as a target patient. We are in the realistic situation where an expert (radiologist) has labeled the data for many patients, but the model is applied on new coming patient for which no labels is available."
   ]
  },
  {
   "cell_type": "code",
   "execution_count": null,
   "id": "5eee38d7-cc7a-43b9-a9c9-e247f32b1463",
   "metadata": {},
   "outputs": [],
   "source": [
    "import pandas as pd\n",
    "from sklearn.model_selection import train_test_split"
   ]
  },
  {
   "cell_type": "code",
   "execution_count": null,
   "id": "00858363-bc1b-451d-a825-62fa78f287eb",
   "metadata": {},
   "outputs": [],
   "source": [
    "df = pd.read_csv(\"https://archive.ics.uci.edu/ml/machine-learning-databases/00206/slice_localization_data.zip\")\n",
    "\n",
    "print(df.shape)\n",
    "df.head()"
   ]
  },
  {
   "cell_type": "code",
   "execution_count": null,
   "id": "b13ac7d1-3bf5-420c-80e3-335e2a5b2426",
   "metadata": {},
   "outputs": [],
   "source": [
    "X = df.drop([\"patientId\", \"reference\"], axis=1)\n",
    "y = df[\"reference\"]"
   ]
  },
  {
   "cell_type": "code",
   "execution_count": null,
   "id": "d8b1d02f-d613-412e-b7f6-2c298df3e68f",
   "metadata": {},
   "outputs": [],
   "source": [
    "source_ids = [i for i in range(97) if i != 46]\n",
    "target_ids = [46]\n",
    "\n",
    "X_src = X.loc[df.patientId.isin(source_ids)]\n",
    "X_tgt = X.loc[df.patientId.isin(target_ids)]\n",
    "\n",
    "y_src = y.loc[df.patientId.isin(source_ids)]\n",
    "y_tgt = y.loc[df.patientId.isin(target_ids)]"
   ]
  },
  {
   "cell_type": "code",
   "execution_count": null,
   "id": "81116b3b-cce5-4471-81fd-c4f8d5e25a05",
   "metadata": {},
   "outputs": [],
   "source": [
    "print(\"Shape of Xs\", X_src.shape)\n",
    "print(\"Shape of Xt\", X_tgt.shape)"
   ]
  },
  {
   "cell_type": "code",
   "execution_count": null,
   "id": "55f5846d-d48f-4033-9041-b5370c47618a",
   "metadata": {},
   "outputs": [],
   "source": [
    "X_train, X_test, y_train, y_test = train_test_split(X_src, y_src, train_size=0.8)"
   ]
  },
  {
   "cell_type": "markdown",
   "id": "0fb64e66-4bcb-404b-a90d-831cbcbfa3cc",
   "metadata": {},
   "source": [
    "### Question 1\n",
    "\n",
    "The plots below show the two first components of the PCA of the 384 input features. We compare the difference between the train and test set which are uniform splits of the source dataset and the difference between the source and target dataset.\n",
    "\n",
    "What do we observe? Can we consider this problem as a transfer learning problem?"
   ]
  },
  {
   "cell_type": "code",
   "execution_count": null,
   "id": "c1711aba-653c-4873-b1f2-a202176c6a83",
   "metadata": {},
   "outputs": [],
   "source": [
    "from sklearn.decomposition import PCA\n",
    "\n",
    "X_pca = PCA(2).fit_transform(X)\n",
    "\n",
    "fig, (ax1, ax2) = plt.subplots(1, 2, figsize=(14, 6))\n",
    "ax1.plot(X_pca[X_train.index, 0], X_pca[X_train.index, 1], 'o', label=\"Train\", markeredgecolor=\"w\", ms=5)\n",
    "ax1.plot(X_pca[X_test.index, 0], X_pca[X_test.index, 1], 'o', label=\"Test\", markeredgecolor=\"w\", ms=5)\n",
    "\n",
    "ax2.plot(X_pca[X_src.index, 0], X_pca[X_src.index, 1], 'o', label=\"Source\", markeredgecolor=\"w\", ms=5)\n",
    "ax2.plot(X_pca[X_tgt.index, 0], X_pca[X_tgt.index, 1], 'o', label=\"Target\", markeredgecolor=\"w\", ms=5, c=\"red\")\n",
    "\n",
    "ax1.legend(); ax2.legend()\n",
    "ax1.set_title(\"PCA Train-Test\"); ax2.set_title(\"PCA Source-Target\")\n",
    "plt.show()"
   ]
  },
  {
   "cell_type": "code",
   "execution_count": null,
   "id": "568f725a-6368-49d7-8f5c-6a999b57d3db",
   "metadata": {},
   "outputs": [],
   "source": [
    "fig, (ax1, ax2) = plt.subplots(1, 2, figsize=(14, 5))\n",
    "ax1.hist(y_train, density=True, bins=30, label=\"Train\")\n",
    "ax1.hist(y_test, alpha=0.5, density=True, bins=30, label=\"Test\")\n",
    "\n",
    "ax2.hist(y_src, label=\"Source\", density=True, bins=30)\n",
    "ax2.hist(y_tgt, label=\"Target\", density=True, bins=30, alpha=0.5, color=\"red\")\n",
    "\n",
    "ax1.legend(); ax2.legend()\n",
    "ax1.set_title(\"Output Distribution Train-Test\"); ax2.set_title(\"Output Distribution Source-Target\")\n",
    "\n",
    "plt.show()"
   ]
  },
  {
   "cell_type": "markdown",
   "id": "906226c1-b64a-4f98-83e4-9db3f7777628",
   "metadata": {},
   "source": [
    "### Question 2\n",
    "\n",
    "Fir a `Ridge` regression model on the training data and compute the source risk (on the test set) and the target risk.\n",
    "\n",
    "What can be observed?"
   ]
  },
  {
   "cell_type": "code",
   "execution_count": null,
   "id": "37719d19-d45d-4fdd-90b4-63c025d04e9d",
   "metadata": {},
   "outputs": [],
   "source": [
    "from sklearn.linear_model import Ridge\n",
    "\n",
    "model = #...\n",
    "model.fit(#...);"
   ]
  },
  {
   "cell_type": "code",
   "execution_count": null,
   "id": "2f2d267f-4253-4840-995f-54ce4f2f4449",
   "metadata": {},
   "outputs": [],
   "source": [
    "yps = # prediction test\n",
    "ypt = # prediction tgt\n",
    "err_src = #...\n",
    "err_tgt = #...\n",
    "\n",
    "print(\"Source average squared error : %.4f\"%err_src)\n",
    "print(\"Target average squared error : %.4f\"%err_tgt)\n",
    "\n",
    "plt.figure(figsize=(6, 6))\n",
    "plt.plot(y_test, yps, 'o', label=\"Source - MSE : %.3f\"%err_src, markeredgecolor=\"w\", ms=5)\n",
    "plt.plot(y_tgt, ypt, 'o', label=\"Target - MSE : %.3f\"%err_tgt, markeredgecolor=\"w\", ms=5, c=\"red\")\n",
    "plt.plot([np.min(y_src), np.max(y_src)], [np.min(y_src), np.max(y_src)], c=\"k\", alpha=0.5)\n",
    "plt.ylabel(r\"$\\widehat{Y}$\", fontsize=14); plt.xlabel(r\"Y\", fontsize=14); plt.legend(fontsize=14); plt.show()"
   ]
  },
  {
   "cell_type": "markdown",
   "id": "8a259582-0206-4db7-a2e3-f99b51f72271",
   "metadata": {},
   "source": [
    "### Question 3\n",
    "\n",
    "Can we consider that the source risk is a good estimation of the target risk? is the covariate-shift assumption realistic in this case?"
   ]
  },
  {
   "cell_type": "markdown",
   "id": "48fc2573-f8f0-4ad2-8cc0-4aafabb5d556",
   "metadata": {},
   "source": [
    "### Question 4 : KDE\n",
    "\n",
    "We know try to apply KDE to the problem.\n",
    "\n",
    "Try to compute an estimation of $p_s(x)$ with different source sample sizes. Compute the computational time for each size. What is the complexity of the algorithm?"
   ]
  },
  {
   "cell_type": "code",
   "execution_count": null,
   "id": "ee795a1e-6c35-4c26-8ad4-b68915110dd6",
   "metadata": {},
   "outputs": [],
   "source": [
    "import time\n",
    "\n",
    "n = 100\n",
    "t0 = time.time()\n",
    "X_s = X_src.sample(n)\n",
    "ps_xs = kde(X_s, X_s)\n",
    "t1 = time.time()\n",
    "print(\"Time %.3f\"%(t1-t0))"
   ]
  },
  {
   "cell_type": "code",
   "execution_count": null,
   "id": "d7bea247-3150-45ed-b53f-73da5188bfd7",
   "metadata": {},
   "outputs": [],
   "source": [
    "times = []\n",
    "n_samples = [100, 500, 1000, 2000, 5000, 10000]\n",
    "\n",
    "t0 = time.time()\n",
    "\n",
    "for n in n_samples:\n",
    "    # ...compute time and append in times"
   ]
  },
  {
   "cell_type": "code",
   "execution_count": null,
   "id": "f98a822c-66f2-4396-9c8d-5acf922f590b",
   "metadata": {},
   "outputs": [],
   "source": [
    "plt.plot(times, \".\")\n",
    "plt.plot(times[-1] * np.array(n_samples)**2 / n_samples[-1]**2)\n",
    "plt.show()"
   ]
  },
  {
   "cell_type": "markdown",
   "id": "c39ce4e6-85c2-490b-896b-f6bc7474bc90",
   "metadata": {},
   "source": [
    "### Question 5 : NNW (1)\n",
    "\n",
    "What is the complexity of the NNW algorithm, is it more adapted than KDE to our problem?\n",
    "\n",
    "Fit a reweighted Ridge regression using the weights from NNW. Plot the weights on the PCA. What do you observe?"
   ]
  },
  {
   "cell_type": "code",
   "execution_count": null,
   "id": "6cc89074-2cb2-4fd9-9969-a7cb61c0e1e1",
   "metadata": {},
   "outputs": [],
   "source": [
    "from adapt.instance_based import NearestNeighborsWeighting\n",
    "\n",
    "nnw = NearestNeighborsWeighting(estimator=Ridge(), Xt=X_tgt, n_neighbors=5)\n",
    "\n",
    "nnw.fit(X_train, y_train);"
   ]
  },
  {
   "cell_type": "code",
   "execution_count": null,
   "id": "0a857dac-ae66-47db-8a62-102117b4a606",
   "metadata": {},
   "outputs": [],
   "source": [
    "yps = # prediction test\n",
    "ypt = # prediction tgt\n",
    "err_src = #...\n",
    "err_tgt = #...\n",
    "\n",
    "print(\"Source average squared error : %.4f\"%err_src)\n",
    "print(\"Target average squared error : %.4f\"%err_tgt)\n",
    "\n",
    "plt.figure(figsize=(6, 6))\n",
    "plt.plot(y_test, yps, 'o', label=\"Source - MSE : %.3f\"%err_src, markeredgecolor=\"w\", ms=5)\n",
    "plt.plot(y_tgt, ypt, 'o', label=\"Target - MSE : %.3f\"%err_tgt, markeredgecolor=\"w\", ms=5, c=\"red\")\n",
    "plt.plot([np.min(y_src), np.max(y_src)], [np.min(y_src), np.max(y_src)], c=\"k\", alpha=0.5)\n",
    "plt.ylabel(r\"$\\widehat{Y}$\", fontsize=14); plt.xlabel(r\"Y\", fontsize=14); plt.legend(fontsize=14); plt.show()"
   ]
  },
  {
   "cell_type": "code",
   "execution_count": null,
   "id": "2f06ea6c-9ee6-44f3-9ef5-23302b8d6fff",
   "metadata": {},
   "outputs": [],
   "source": [
    "weights = nnw.weights_\n",
    "weights /= weights.mean()\n",
    "\n",
    "X_pca = PCA(2).fit_transform(X)\n",
    "\n",
    "fig, ax = plt.subplots(1, 1, figsize=(7, 6))\n",
    "\n",
    "ax.scatter(X_pca[X_train.index, 0], X_pca[X_train.index, 1], label=\"Source\", edgecolor=\"w\", s=5 * weights)\n",
    "ax.plot(X_pca[X_tgt.index, 0], X_pca[X_tgt.index, 1], 'o', label=\"Target\", markeredgecolor=\"w\", ms=5, c=\"red\")\n",
    "\n",
    "ax1.legend(); ax2.legend()\n",
    "ax1.set_title(\"PCA Train-Test\"); ax2.set_title(\"PCA Source-Target\")\n",
    "plt.show()"
   ]
  },
  {
   "cell_type": "markdown",
   "id": "1232a67d-f911-4f73-8196-39f547031992",
   "metadata": {},
   "source": [
    "### Question 6 : NNW (2)\n",
    "\n",
    "Try different vlaues of `n_neighbors`. What is the best value?\n",
    "\n",
    "**(BONUS)** Propose some ideas to select the best value `n_neighbors`"
   ]
  },
  {
   "cell_type": "markdown",
   "id": "33cc1094-642a-4550-a1fc-9f7b2375684e",
   "metadata": {
    "tags": []
   },
   "source": [
    "### Question 7 : KLIEP (1)\n",
    "\n",
    "Try the same thing with KLIEP. Use different values of the `gamma` argument, what do you observe?"
   ]
  },
  {
   "cell_type": "code",
   "execution_count": null,
   "id": "b21fde9e-4e5d-45b5-9934-aa1d3ee23a6f",
   "metadata": {},
   "outputs": [],
   "source": [
    "from adapt.instance_based import KLIEP\n",
    "\n",
    "kliep = KLIEP(estimator=Ridge(), Xt=X_tgt, gamma=1.)\n",
    "\n",
    "kliep.fit(X_train, y_train);"
   ]
  },
  {
   "cell_type": "code",
   "execution_count": null,
   "id": "1428df53-b901-4b1f-8ae9-f7d0bed9e488",
   "metadata": {},
   "outputs": [],
   "source": [
    "yps = # prediction test\n",
    "ypt = # prediction tgt\n",
    "err_src = #...\n",
    "err_tgt = #...\n",
    "\n",
    "print(\"Source average squared error : %.4f\"%err_src)\n",
    "print(\"Target average squared error : %.4f\"%err_tgt)\n",
    "\n",
    "plt.figure(figsize=(6, 6))\n",
    "plt.plot(y_test, yps, 'o', label=\"Source - MSE : %.3f\"%err_src, markeredgecolor=\"w\", ms=5)\n",
    "plt.plot(y_tgt, ypt, 'o', label=\"Target - MSE : %.3f\"%err_tgt, markeredgecolor=\"w\", ms=5, c=\"red\")\n",
    "plt.plot([np.min(y_src), np.max(y_src)], [np.min(y_src), np.max(y_src)], c=\"k\", alpha=0.5)\n",
    "plt.ylabel(r\"$\\widehat{Y}$\", fontsize=14); plt.xlabel(r\"Y\", fontsize=14); plt.legend(fontsize=14); plt.show()"
   ]
  },
  {
   "cell_type": "code",
   "execution_count": null,
   "id": "99fbf82b-d241-440a-bf43-bfbbc1c9ff10",
   "metadata": {},
   "outputs": [],
   "source": [
    "weights = kliep.weights_\n",
    "weights /= weights.mean()\n",
    "\n",
    "X_pca = PCA(2).fit_transform(X)\n",
    "\n",
    "fig, ax = plt.subplots(1, 1, figsize=(7, 6))\n",
    "\n",
    "ax.scatter(X_pca[X_train.index, 0], X_pca[X_train.index, 1], label=\"Source\", edgecolor=\"w\", s=5 * weights)\n",
    "ax.plot(X_pca[X_tgt.index, 0], X_pca[X_tgt.index, 1], 'o', label=\"Target\", markeredgecolor=\"w\", ms=5, c=\"red\")\n",
    "\n",
    "ax1.legend(); ax2.legend()\n",
    "ax1.set_title(\"PCA Train-Test\"); ax2.set_title(\"PCA Source-Target\")\n",
    "plt.show()"
   ]
  },
  {
   "cell_type": "markdown",
   "id": "5639527b-177c-40fb-86ff-34941735712c",
   "metadata": {},
   "source": [
    "### Question 8 : KLIEP (2)\n",
    "\n",
    "Put a list of possible values for gamma, explain what is happening?"
   ]
  },
  {
   "cell_type": "code",
   "execution_count": null,
   "id": "290b4915-1e3b-4dbb-9e22-f66886bfa8a6",
   "metadata": {},
   "outputs": [],
   "source": [
    "kliep = KLIEP(estimator=Ridge(), Xt=X_tgt, gamma=#...)\n",
    "\n",
    "kliep.fit(X_train, y_train);"
   ]
  },
  {
   "cell_type": "code",
   "execution_count": null,
   "id": "0242de52-13f9-4797-bc61-b2988b488bf5",
   "metadata": {},
   "outputs": [],
   "source": [
    "yps = # prediction test\n",
    "ypt = # prediction tgt\n",
    "err_src = #...\n",
    "err_tgt = #...\n",
    "\n",
    "print(\"Source average squared error : %.4f\"%err_src)\n",
    "print(\"Target average squared error : %.4f\"%err_tgt)\n",
    "\n",
    "plt.figure(figsize=(6, 6))\n",
    "plt.plot(y_test, yps, 'o', label=\"Source - MSE : %.3f\"%err_src, markeredgecolor=\"w\", ms=5)\n",
    "plt.plot(y_tgt, ypt, 'o', label=\"Target - MSE : %.3f\"%err_tgt, markeredgecolor=\"w\", ms=5, c=\"red\")\n",
    "plt.plot([np.min(y_src), np.max(y_src)], [np.min(y_src), np.max(y_src)], c=\"k\", alpha=0.5)\n",
    "plt.ylabel(r\"$\\widehat{Y}$\", fontsize=14); plt.xlabel(r\"Y\", fontsize=14); plt.legend(fontsize=14); plt.show()"
   ]
  },
  {
   "cell_type": "code",
   "execution_count": null,
   "id": "4ce896a4-d029-4914-91d9-a54264c979e2",
   "metadata": {},
   "outputs": [],
   "source": [
    "weights = kliep.weights_\n",
    "weights /= weights.mean()\n",
    "\n",
    "X_pca = PCA(2).fit_transform(X)\n",
    "\n",
    "fig, ax = plt.subplots(1, 1, figsize=(7, 6))\n",
    "\n",
    "ax.scatter(X_pca[X_train.index, 0], X_pca[X_train.index, 1], label=\"Source\", edgecolor=\"w\", s=5 * weights)\n",
    "ax.plot(X_pca[X_tgt.index, 0], X_pca[X_tgt.index, 1], 'o', label=\"Target\", markeredgecolor=\"w\", ms=5, c=\"red\")\n",
    "\n",
    "ax1.legend(); ax2.legend()\n",
    "ax1.set_title(\"PCA Train-Test\"); ax2.set_title(\"PCA Source-Target\")\n",
    "plt.show()"
   ]
  }
 ],
 "metadata": {
  "kernelspec": {
   "display_name": "statmath38",
   "language": "python",
   "name": "statmath38"
  },
  "language_info": {
   "codemirror_mode": {
    "name": "ipython",
    "version": 3
   },
   "file_extension": ".py",
   "mimetype": "text/x-python",
   "name": "python",
   "nbconvert_exporter": "python",
   "pygments_lexer": "ipython3",
   "version": "3.8.12"
  }
 },
 "nbformat": 4,
 "nbformat_minor": 5
}
